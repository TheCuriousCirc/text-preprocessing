{
 "cells": [
  {
   "cell_type": "markdown",
   "metadata": {},
   "source": [
    "# Prerequisites"
   ]
  },
  {
   "cell_type": "code",
   "execution_count": 1,
   "metadata": {},
   "outputs": [],
   "source": [
    "import re\n",
    "from typing import List, Dict, Optional\n",
    "\n",
    "import pandas as pd\n",
    "from sklearn.datasets import fetch_20newsgroups\n",
    "import plotly.express as px"
   ]
  },
  {
   "cell_type": "markdown",
   "metadata": {},
   "source": [
    "# Dataset"
   ]
  },
  {
   "cell_type": "code",
   "execution_count": 2,
   "metadata": {},
   "outputs": [],
   "source": [
    "religion = fetch_20newsgroups(\n",
    "    subset='train',\n",
    "    categories=['alt.atheism', 'talk.religion.misc'],\n",
    "    remove=('headers', 'footers', 'quotes'),\n",
    "    random_state=32\n",
    ")\n",
    "\n",
    "graphics = fetch_20newsgroups(\n",
    "    subset='train',\n",
    "    categories=['comp.graphics', 'comp.windows.x'],\n",
    "    remove=('headers', 'footers', 'quotes'),\n",
    "    random_state=32\n",
    ")\n",
    "\n",
    "raw_data = religion.data[:20] + graphics.data[:20]"
   ]
  },
  {
   "cell_type": "code",
   "execution_count": null,
   "metadata": {},
   "outputs": [],
   "source": [
    "for i in raw_data:\n",
    "    print(i)"
   ]
  },
  {
   "cell_type": "markdown",
   "metadata": {},
   "source": [
    "# Preprocessing"
   ]
  },
  {
   "cell_type": "markdown",
   "metadata": {},
   "source": [
    "## Tokenization"
   ]
  },
  {
   "cell_type": "code",
   "execution_count": 3,
   "metadata": {},
   "outputs": [],
   "source": [
    "def get_token(text: str) -> List[str]:\n",
    "    \n",
    "    first_pattern = r'[A-Za-z]{2,}'\n",
    "    second_pattern = r'W+^[\\s+]'\n",
    "    \n",
    "    return re.findall(\n",
    "        first_pattern,\n",
    "        re.sub(second_pattern, '', text)\n",
    "    )\n",
    "\n",
    "def get_vocab(corpus: List[str]) -> Dict[int, str]:\n",
    "    \n",
    "    vocab_list = list()\n",
    "    for doc in corpus:\n",
    "        vocab_list += get_token(doc)\n",
    "        \n",
    "    return {i: vocab for i, vocab in enumerate(vocab_list)}"
   ]
  },
  {
   "cell_type": "code",
   "execution_count": 4,
   "metadata": {
    "collapsed": true
   },
   "outputs": [
    {
     "data": {
      "text/plain": [
       "['Are',\n",
       " 'we',\n",
       " 'talking',\n",
       " 'about',\n",
       " 'me',\n",
       " 'or',\n",
       " 'the',\n",
       " 'majority',\n",
       " 'of',\n",
       " 'the',\n",
       " 'people',\n",
       " 'that',\n",
       " 'support',\n",
       " 'it',\n",
       " 'Anyway',\n",
       " 'think',\n",
       " 'that',\n",
       " 'revenge',\n",
       " 'or',\n",
       " 'fairness',\n",
       " 'is',\n",
       " 'why',\n",
       " 'most',\n",
       " 'people',\n",
       " 'are',\n",
       " 'in',\n",
       " 'favor',\n",
       " 'of',\n",
       " 'the',\n",
       " 'punishment',\n",
       " 'If',\n",
       " 'murderer',\n",
       " 'is',\n",
       " 'going',\n",
       " 'to',\n",
       " 'be',\n",
       " 'punished',\n",
       " 'people',\n",
       " 'that',\n",
       " 'think',\n",
       " 'that',\n",
       " 'he',\n",
       " 'should',\n",
       " 'get',\n",
       " 'what',\n",
       " 'he',\n",
       " 'deserves',\n",
       " 'Most',\n",
       " 'people',\n",
       " 'wouldn',\n",
       " 'think',\n",
       " 'it',\n",
       " 'would',\n",
       " 'be',\n",
       " 'fair',\n",
       " 'for',\n",
       " 'the',\n",
       " 'murderer',\n",
       " 'to',\n",
       " 'live',\n",
       " 'while',\n",
       " 'his',\n",
       " 'victim',\n",
       " 'died',\n",
       " 'Perhaps',\n",
       " 'you',\n",
       " 'think',\n",
       " 'that',\n",
       " 'it',\n",
       " 'is',\n",
       " 'petty',\n",
       " 'and',\n",
       " 'pathetic',\n",
       " 'but',\n",
       " 'your',\n",
       " 'views',\n",
       " 'are',\n",
       " 'in',\n",
       " 'the',\n",
       " 'minority',\n",
       " 'Where',\n",
       " 'are',\n",
       " 'we',\n",
       " 'required',\n",
       " 'to',\n",
       " 'have',\n",
       " 'compassion',\n",
       " 'forgiveness',\n",
       " 'and',\n",
       " 'sympathy',\n",
       " 'If',\n",
       " 'someone',\n",
       " 'wrongs',\n",
       " 'me',\n",
       " 'will',\n",
       " 'take',\n",
       " 'great',\n",
       " 'lengths',\n",
       " 'to',\n",
       " 'make',\n",
       " 'sure',\n",
       " 'that',\n",
       " 'his',\n",
       " 'advantage',\n",
       " 'is',\n",
       " 'removed',\n",
       " 'or',\n",
       " 'similar',\n",
       " 'situation',\n",
       " 'is',\n",
       " 'forced',\n",
       " 'upon',\n",
       " 'him',\n",
       " 'If',\n",
       " 'someone',\n",
       " 'kills',\n",
       " 'another',\n",
       " 'then',\n",
       " 'we',\n",
       " 'can',\n",
       " 'apply',\n",
       " 'the',\n",
       " 'golden',\n",
       " 'rule',\n",
       " 'and',\n",
       " 'kill',\n",
       " 'this',\n",
       " 'person',\n",
       " 'in',\n",
       " 'turn',\n",
       " 'Is',\n",
       " 'not',\n",
       " 'our',\n",
       " 'entire',\n",
       " 'moral',\n",
       " 'system',\n",
       " 'based',\n",
       " 'on',\n",
       " 'such',\n",
       " 'concept',\n",
       " 'Or',\n",
       " 'are',\n",
       " 'you',\n",
       " 'stating',\n",
       " 'that',\n",
       " 'human',\n",
       " 'life',\n",
       " 'is',\n",
       " 'sacred',\n",
       " 'somehow',\n",
       " 'and',\n",
       " 'that',\n",
       " 'it',\n",
       " 'should',\n",
       " 'never',\n",
       " 'be',\n",
       " 'violated',\n",
       " 'This',\n",
       " 'would',\n",
       " 'sound',\n",
       " 'like',\n",
       " 'some',\n",
       " 'sort',\n",
       " 'of',\n",
       " 'religious',\n",
       " 'view',\n",
       " 'Once',\n",
       " 'criminal',\n",
       " 'has',\n",
       " 'committed',\n",
       " 'murder',\n",
       " 'his',\n",
       " 'desires',\n",
       " 'are',\n",
       " 'irrelevant',\n",
       " 'And',\n",
       " 'you',\n",
       " 'still',\n",
       " 'have',\n",
       " 'not',\n",
       " 'answered',\n",
       " 'my',\n",
       " 'question',\n",
       " 'If',\n",
       " 'you',\n",
       " 'are',\n",
       " 'concerned',\n",
       " 'about',\n",
       " 'the',\n",
       " 'death',\n",
       " 'penalty',\n",
       " 'due',\n",
       " 'to',\n",
       " 'the',\n",
       " 'possibility',\n",
       " 'of',\n",
       " 'the',\n",
       " 'execution',\n",
       " 'of',\n",
       " 'an',\n",
       " 'innocent',\n",
       " 'then',\n",
       " 'why',\n",
       " 'isn',\n",
       " 'this',\n",
       " 'same',\n",
       " 'concern',\n",
       " 'shared',\n",
       " 'with',\n",
       " 'imprisonment',\n",
       " 'Shouldn',\n",
       " 'we',\n",
       " 'by',\n",
       " 'your',\n",
       " 'logic',\n",
       " 'administer',\n",
       " 'as',\n",
       " 'minimum',\n",
       " 'as',\n",
       " 'punishment',\n",
       " 'as',\n",
       " 'possible',\n",
       " 'to',\n",
       " 'avoid',\n",
       " 'violating',\n",
       " 'the',\n",
       " 'liberty',\n",
       " 'or',\n",
       " 'happiness',\n",
       " 'of',\n",
       " 'an',\n",
       " 'innocent',\n",
       " 'person']"
      ]
     },
     "execution_count": 4,
     "metadata": {},
     "output_type": "execute_result"
    }
   ],
   "source": [
    "tokens = get_token(raw_data[13])\n",
    "tokens"
   ]
  },
  {
   "cell_type": "code",
   "execution_count": 5,
   "metadata": {
    "collapsed": true
   },
   "outputs": [
    {
     "data": {
      "text/plain": [
       "{0: 'Did',\n",
       " 1: 'you',\n",
       " 2: 'check',\n",
       " 3: 'with',\n",
       " 4: 'the',\n",
       " 5: 'Afghans',\n",
       " 6: 'before',\n",
       " 7: 'posting',\n",
       " 8: 'this',\n",
       " 9: 'They',\n",
       " 10: 'might',\n",
       " 11: 'disagree',\n",
       " 12: 'EVER',\n",
       " 13: 'HEAR',\n",
       " 14: 'OF',\n",
       " 15: 'BAPTISM',\n",
       " 16: 'AT',\n",
       " 17: 'BIRTH',\n",
       " 18: 'If',\n",
       " 19: 'that',\n",
       " 20: 'isn',\n",
       " 21: 'preying',\n",
       " 22: 'on',\n",
       " 23: 'the',\n",
       " 24: 'young',\n",
       " 25: 'don',\n",
       " 26: 'know',\n",
       " 27: 'what',\n",
       " 28: 'is',\n",
       " 29: 'RB',\n",
       " 30: 'RB',\n",
       " 31: 'No',\n",
       " 32: 'that',\n",
       " 33: 'praying',\n",
       " 34: 'on',\n",
       " 35: 'the',\n",
       " 36: 'young',\n",
       " 37: 'Preying',\n",
       " 38: 'on',\n",
       " 39: 'the',\n",
       " 40: 'young',\n",
       " 41: 'comes',\n",
       " 42: 'RB',\n",
       " 43: 'later',\n",
       " 44: 'when',\n",
       " 45: 'the',\n",
       " 46: 'bright',\n",
       " 47: 'eyed',\n",
       " 48: 'little',\n",
       " 49: 'altar',\n",
       " 50: 'boy',\n",
       " 51: 'finds',\n",
       " 52: 'out',\n",
       " 53: 'what',\n",
       " 54: 'the',\n",
       " 55: 'RB',\n",
       " 56: 'priest',\n",
       " 57: 'really',\n",
       " 58: 'wears',\n",
       " 59: 'under',\n",
       " 60: 'that',\n",
       " 61: 'chasible',\n",
       " 62: 'Does',\n",
       " 63: 'this',\n",
       " 64: 'statement',\n",
       " 65: 'further',\n",
       " 66: 'the',\n",
       " 67: 'atheist',\n",
       " 68: 'cause',\n",
       " 69: 'in',\n",
       " 70: 'some',\n",
       " 71: 'way',\n",
       " 72: 'surely',\n",
       " 73: 'it',\n",
       " 74: 'not',\n",
       " 75: 'intended',\n",
       " 76: 'as',\n",
       " 77: 'wit',\n",
       " 78: 'Someone',\n",
       " 79: 'posted',\n",
       " 80: 'list',\n",
       " 81: 'of',\n",
       " 82: 'number',\n",
       " 83: 'of',\n",
       " 84: 'alleged',\n",
       " 85: 'Bible',\n",
       " 86: 'contradictions',\n",
       " 87: 'As',\n",
       " 88: 'Joslin',\n",
       " 89: 'said',\n",
       " 90: 'most',\n",
       " 91: 'people',\n",
       " 92: 'do',\n",
       " 93: 'value',\n",
       " 94: 'quantity',\n",
       " 95: 'over',\n",
       " 96: 'quality',\n",
       " 97: 'Dave',\n",
       " 98: 'Butler',\n",
       " 99: 'posted',\n",
       " 100: 'some',\n",
       " 101: 'good',\n",
       " 102: 'quality',\n",
       " 103: 'alleged',\n",
       " 104: 'contradictions',\n",
       " 105: 'that',\n",
       " 106: 'are',\n",
       " 107: 'taking',\n",
       " 108: 'long',\n",
       " 109: 'time',\n",
       " 110: 'to',\n",
       " 111: 'properly',\n",
       " 112: 'exegete',\n",
       " 113: 'If',\n",
       " 114: 'you',\n",
       " 115: 'want',\n",
       " 116: 'good',\n",
       " 117: 'list',\n",
       " 118: 'quantity',\n",
       " 119: 'When',\n",
       " 120: 'Critics',\n",
       " 121: 'Ask',\n",
       " 122: 'Popular',\n",
       " 123: 'Handbook',\n",
       " 124: 'On',\n",
       " 125: 'Bible',\n",
       " 126: 'Difficulties',\n",
       " 127: 'by',\n",
       " 128: 'Dr',\n",
       " 129: 'Norman',\n",
       " 130: 'Geisler',\n",
       " 131: 'deals',\n",
       " 132: 'with',\n",
       " 133: 'over',\n",
       " 134: 'alleged',\n",
       " 135: 'contradictions',\n",
       " 136: 'Frank',\n",
       " 137: 'Xenophobia',\n",
       " 138: 'both',\n",
       " 139: 'de',\n",
       " 140: 'facto',\n",
       " 141: 'and',\n",
       " 142: 'de',\n",
       " 143: 'jure',\n",
       " 144: 'as',\n",
       " 145: 'implemented',\n",
       " 146: 'in',\n",
       " 147: 'legal',\n",
       " 148: 'systems',\n",
       " 149: 'is',\n",
       " 150: 'widespread',\n",
       " 151: 'while',\n",
       " 152: 'the',\n",
       " 153: 'Bible',\n",
       " 154: 'although',\n",
       " 155: 'not',\n",
       " 156: 'egalitarian',\n",
       " 157: 'specifically',\n",
       " 158: 'preaches',\n",
       " 159: 'kindness',\n",
       " 160: 'to',\n",
       " 161: 'the',\n",
       " 162: 'stranger',\n",
       " 163: 'and',\n",
       " 164: 'emphasizes',\n",
       " 165: 'in',\n",
       " 166: 'the',\n",
       " 167: 'Book',\n",
       " 168: 'of',\n",
       " 169: 'Ruth',\n",
       " 170: 'that',\n",
       " 171: 'foreigner',\n",
       " 172: 'can',\n",
       " 173: 'join',\n",
       " 174: 'the',\n",
       " 175: 'nation',\n",
       " 176: 'and',\n",
       " 177: 'give',\n",
       " 178: 'rise',\n",
       " 179: 'to',\n",
       " 180: 'one',\n",
       " 181: 'of',\n",
       " 182: 'the',\n",
       " 183: 'great',\n",
       " 184: 'heroes',\n",
       " 185: 'of',\n",
       " 186: 'the',\n",
       " 187: 'nation',\n",
       " 188: 'Clearly',\n",
       " 189: 'better',\n",
       " 190: 'than',\n",
       " 191: 'the',\n",
       " 192: 'alternative',\n",
       " 193: 'but',\n",
       " 194: 'as',\n",
       " 195: 'an',\n",
       " 196: 'American',\n",
       " 197: 'what',\n",
       " 198: 'strikes',\n",
       " 199: 'me',\n",
       " 200: 'as',\n",
       " 201: 'strange',\n",
       " 202: 'about',\n",
       " 203: 'this',\n",
       " 204: 'story',\n",
       " 205: 'is',\n",
       " 206: 'that',\n",
       " 207: 'it',\n",
       " 208: 'should',\n",
       " 209: 'have',\n",
       " 210: 'even',\n",
       " 211: 'been',\n",
       " 212: 'considered',\n",
       " 213: 'an',\n",
       " 214: 'issue',\n",
       " 215: 'Jim',\n",
       " 216: 'There',\n",
       " 217: 'are',\n",
       " 218: 'couple',\n",
       " 219: 'of',\n",
       " 220: 'things',\n",
       " 221: 'about',\n",
       " 222: 'your',\n",
       " 223: 'post',\n",
       " 224: 'and',\n",
       " 225: 'others',\n",
       " 226: 'in',\n",
       " 227: 'this',\n",
       " 228: 'thread',\n",
       " 229: 'that',\n",
       " 230: 'are',\n",
       " 231: 'little',\n",
       " 232: 'confusing',\n",
       " 233: 'An',\n",
       " 234: 'atheist',\n",
       " 235: 'is',\n",
       " 236: 'one',\n",
       " 237: 'for',\n",
       " 238: 'whom',\n",
       " 239: 'all',\n",
       " 240: 'things',\n",
       " 241: 'can',\n",
       " 242: 'be',\n",
       " 243: 'understood',\n",
       " 244: 'as',\n",
       " 245: 'processes',\n",
       " 246: 'of',\n",
       " 247: 'nature',\n",
       " 248: 'exclusively',\n",
       " 249: 'There',\n",
       " 250: 'is',\n",
       " 251: 'no',\n",
       " 252: 'need',\n",
       " 253: 'for',\n",
       " 254: 'any',\n",
       " 255: 'recourse',\n",
       " 256: 'to',\n",
       " 257: 'Divnity',\n",
       " 258: 'to',\n",
       " 259: 'describe',\n",
       " 260: 'or',\n",
       " 261: 'explain',\n",
       " 262: 'anything',\n",
       " 263: 'There',\n",
       " 264: 'is',\n",
       " 265: 'no',\n",
       " 266: 'purpose',\n",
       " 267: 'or',\n",
       " 268: 'direction',\n",
       " 269: 'for',\n",
       " 270: 'any',\n",
       " 271: 'event',\n",
       " 272: 'beyond',\n",
       " 273: 'those',\n",
       " 274: 'required',\n",
       " 275: 'by',\n",
       " 276: 'physics',\n",
       " 277: 'chemistry',\n",
       " 278: 'biology',\n",
       " 279: 'etc',\n",
       " 280: 'everything',\n",
       " 281: 'is',\n",
       " 282: 'random',\n",
       " 283: 'nothing',\n",
       " 284: 'is',\n",
       " 285: 'determnined',\n",
       " 286: 'This',\n",
       " 287: 'would',\n",
       " 288: 'also',\n",
       " 289: 'have',\n",
       " 290: 'to',\n",
       " 291: 'include',\n",
       " 292: 'human',\n",
       " 293: 'intelligence',\n",
       " 294: 'of',\n",
       " 295: 'course',\n",
       " 296: 'and',\n",
       " 297: 'all',\n",
       " 298: 'its',\n",
       " 299: 'products',\n",
       " 300: 'There',\n",
       " 301: 'is',\n",
       " 302: 'nothing',\n",
       " 303: 'requiring',\n",
       " 304: 'that',\n",
       " 305: 'life',\n",
       " 306: 'evolve',\n",
       " 307: 'or',\n",
       " 308: 'that',\n",
       " 309: 'it',\n",
       " 310: 'acquire',\n",
       " 311: 'intelligence',\n",
       " 312: 'it',\n",
       " 313: 'just',\n",
       " 314: 'happy',\n",
       " 315: 'accident',\n",
       " 316: 'For',\n",
       " 317: 'an',\n",
       " 318: 'atheist',\n",
       " 319: 'no',\n",
       " 320: 'event',\n",
       " 321: 'can',\n",
       " 322: 'be',\n",
       " 323: 'preferred',\n",
       " 324: 'to',\n",
       " 325: 'another',\n",
       " 326: 'or',\n",
       " 327: 'be',\n",
       " 328: 'said',\n",
       " 329: 'to',\n",
       " 330: 'have',\n",
       " 331: 'more',\n",
       " 332: 'or',\n",
       " 333: 'less',\n",
       " 334: 'value',\n",
       " 335: 'than',\n",
       " 336: 'another',\n",
       " 337: 'in',\n",
       " 338: 'any',\n",
       " 339: 'naturalistic',\n",
       " 340: 'sense',\n",
       " 341: 'and',\n",
       " 342: 'no',\n",
       " 343: 'thought',\n",
       " 344: 'about',\n",
       " 345: 'an',\n",
       " 346: 'event',\n",
       " 347: 'can',\n",
       " 348: 'have',\n",
       " 349: 'value',\n",
       " 350: 'The',\n",
       " 351: 'products',\n",
       " 352: 'of',\n",
       " 353: 'our',\n",
       " 354: 'intelligence',\n",
       " 355: 'are',\n",
       " 356: 'acquired',\n",
       " 357: 'from',\n",
       " 358: 'our',\n",
       " 359: 'environment',\n",
       " 360: 'from',\n",
       " 361: 'teaching',\n",
       " 362: 'training',\n",
       " 363: 'observation',\n",
       " 364: 'and',\n",
       " 365: 'experience',\n",
       " 366: 'and',\n",
       " 367: 'are',\n",
       " 368: 'only',\n",
       " 369: 'significant',\n",
       " 370: 'to',\n",
       " 371: 'the',\n",
       " 372: 'individual',\n",
       " 373: 'mind',\n",
       " 374: 'wherein',\n",
       " 375: 'they',\n",
       " 376: 'reside',\n",
       " 377: 'These',\n",
       " 378: 'mental',\n",
       " 379: 'processes',\n",
       " 380: 'and',\n",
       " 381: 'the',\n",
       " 382: 'images',\n",
       " 383: 'they',\n",
       " 384: 'produce',\n",
       " 385: 'for',\n",
       " 386: 'us',\n",
       " 387: 'are',\n",
       " 388: 'just',\n",
       " 389: 'electrical',\n",
       " 390: 'activity',\n",
       " 391: 'and',\n",
       " 392: 'nothing',\n",
       " 393: 'more',\n",
       " 394: 'content',\n",
       " 395: 'is',\n",
       " 396: 'of',\n",
       " 397: 'no',\n",
       " 398: 'consequence',\n",
       " 399: 'The',\n",
       " 400: 'human',\n",
       " 401: 'mind',\n",
       " 402: 'is',\n",
       " 403: 'as',\n",
       " 404: 'much',\n",
       " 405: 'response',\n",
       " 406: 'to',\n",
       " 407: 'natural',\n",
       " 408: 'forces',\n",
       " 409: 'as',\n",
       " 410: 'water',\n",
       " 411: 'running',\n",
       " 412: 'down',\n",
       " 413: 'hill',\n",
       " 414: 'How',\n",
       " 415: 'then',\n",
       " 416: 'can',\n",
       " 417: 'an',\n",
       " 418: 'atheist',\n",
       " 419: 'judge',\n",
       " 420: 'value',\n",
       " 421: 'What',\n",
       " 422: 'is',\n",
       " 423: 'the',\n",
       " 424: 'basis',\n",
       " 425: 'for',\n",
       " 426: 'criticizing',\n",
       " 427: 'the',\n",
       " 428: 'values',\n",
       " 429: 'ennumerated',\n",
       " 430: 'in',\n",
       " 431: 'the',\n",
       " 432: 'Bible',\n",
       " 433: 'or',\n",
       " 434: 'the',\n",
       " 435: 'purposes',\n",
       " 436: 'imputed',\n",
       " 437: 'to',\n",
       " 438: 'God',\n",
       " 439: 'On',\n",
       " 440: 'what',\n",
       " 441: 'grounds',\n",
       " 442: 'can',\n",
       " 443: 'the',\n",
       " 444: 'the',\n",
       " 445: 'behavior',\n",
       " 446: 'of',\n",
       " 447: 'the',\n",
       " 448: 'reliogious',\n",
       " 449: 'be',\n",
       " 450: 'condemned',\n",
       " 451: 'It',\n",
       " 452: 'seems',\n",
       " 453: 'that',\n",
       " 454: 'in',\n",
       " 455: 'judging',\n",
       " 456: 'the',\n",
       " 457: 'values',\n",
       " 458: 'that',\n",
       " 459: 'motivate',\n",
       " 460: 'others',\n",
       " 461: 'to',\n",
       " 462: 'action',\n",
       " 463: 'you',\n",
       " 464: 'have',\n",
       " 465: 'to',\n",
       " 466: 'have',\n",
       " 467: 'some',\n",
       " 468: 'standard',\n",
       " 469: 'against',\n",
       " 470: 'which',\n",
       " 471: 'conduct',\n",
       " 472: 'is',\n",
       " 473: 'measured',\n",
       " 474: 'but',\n",
       " 475: 'what',\n",
       " 476: 'in',\n",
       " 477: 'nature',\n",
       " 478: 'can',\n",
       " 479: 'serve',\n",
       " 480: 'that',\n",
       " 481: 'purpose',\n",
       " 482: 'What',\n",
       " 483: 'law',\n",
       " 484: 'of',\n",
       " 485: 'nature',\n",
       " 486: 'can',\n",
       " 487: 'you',\n",
       " 488: 'invoke',\n",
       " 489: 'to',\n",
       " 490: 'establish',\n",
       " 491: 'your',\n",
       " 492: 'values',\n",
       " 493: 'Since',\n",
       " 494: 'every',\n",
       " 495: 'event',\n",
       " 496: 'is',\n",
       " 497: 'entirely',\n",
       " 498: 'and',\n",
       " 499: 'exclusively',\n",
       " 500: 'physical',\n",
       " 501: 'event',\n",
       " 502: 'what',\n",
       " 503: 'difference',\n",
       " 504: 'could',\n",
       " 505: 'it',\n",
       " 506: 'possibly',\n",
       " 507: 'make',\n",
       " 508: 'what',\n",
       " 509: 'anyone',\n",
       " 510: 'does',\n",
       " 511: 'religious',\n",
       " 512: 'or',\n",
       " 513: 'otherwise',\n",
       " 514: 'there',\n",
       " 515: 'can',\n",
       " 516: 'be',\n",
       " 517: 'no',\n",
       " 518: 'meaning',\n",
       " 519: 'or',\n",
       " 520: 'gradation',\n",
       " 521: 'of',\n",
       " 522: 'value',\n",
       " 523: 'The',\n",
       " 524: 'only',\n",
       " 525: 'way',\n",
       " 526: 'an',\n",
       " 527: 'atheist',\n",
       " 528: 'can',\n",
       " 529: 'object',\n",
       " 530: 'to',\n",
       " 531: 'any',\n",
       " 532: 'behaviour',\n",
       " 533: 'is',\n",
       " 534: 'to',\n",
       " 535: 'admit',\n",
       " 536: 'that',\n",
       " 537: 'the',\n",
       " 538: 'objection',\n",
       " 539: 'is',\n",
       " 540: 'entirely',\n",
       " 541: 'subjective',\n",
       " 542: 'and',\n",
       " 543: 'that',\n",
       " 544: 'he',\n",
       " 545: 'she',\n",
       " 546: 'just',\n",
       " 547: 'doesn',\n",
       " 548: 'like',\n",
       " 549: 'it',\n",
       " 550: 'that',\n",
       " 551: 'it',\n",
       " 552: 'Any',\n",
       " 553: 'value',\n",
       " 554: 'judgement',\n",
       " 555: 'must',\n",
       " 556: 'be',\n",
       " 557: 'prefaced',\n",
       " 558: 'by',\n",
       " 559: 'the',\n",
       " 560: 'disclaimer',\n",
       " 561: 'that',\n",
       " 562: 'it',\n",
       " 563: 'is',\n",
       " 564: 'nothing',\n",
       " 565: 'more',\n",
       " 566: 'than',\n",
       " 567: 'matter',\n",
       " 568: 'of',\n",
       " 569: 'personal',\n",
       " 570: 'opinion',\n",
       " 571: 'and',\n",
       " 572: 'carries',\n",
       " 573: 'no',\n",
       " 574: 'weight',\n",
       " 575: 'in',\n",
       " 576: 'any',\n",
       " 577: 'absolute',\n",
       " 578: 'sense',\n",
       " 579: 'That',\n",
       " 580: 'you',\n",
       " 581: 'don',\n",
       " 582: 'like',\n",
       " 583: 'what',\n",
       " 584: 'God',\n",
       " 585: 'told',\n",
       " 586: 'people',\n",
       " 587: 'to',\n",
       " 588: 'do',\n",
       " 589: 'says',\n",
       " 590: 'nothing',\n",
       " 591: 'about',\n",
       " 592: 'God',\n",
       " 593: 'or',\n",
       " 594: 'God',\n",
       " 595: 'commands',\n",
       " 596: 'it',\n",
       " 597: 'says',\n",
       " 598: 'only',\n",
       " 599: 'that',\n",
       " 600: 'there',\n",
       " 601: 'was',\n",
       " 602: 'an',\n",
       " 603: 'electrical',\n",
       " 604: 'event',\n",
       " 605: 'in',\n",
       " 606: 'your',\n",
       " 607: 'nervous',\n",
       " 608: 'system',\n",
       " 609: 'that',\n",
       " 610: 'created',\n",
       " 611: 'an',\n",
       " 612: 'emotional',\n",
       " 613: 'state',\n",
       " 614: 'that',\n",
       " 615: 'your',\n",
       " 616: 'mind',\n",
       " 617: 'coupled',\n",
       " 618: 'with',\n",
       " 619: 'pre',\n",
       " 620: 'existing',\n",
       " 621: 'thought',\n",
       " 622: 'set',\n",
       " 623: 'to',\n",
       " 624: 'form',\n",
       " 625: 'that',\n",
       " 626: 'reaction',\n",
       " 627: 'That',\n",
       " 628: 'your',\n",
       " 629: 'objections',\n",
       " 630: 'seem',\n",
       " 631: 'well',\n",
       " 632: 'founded',\n",
       " 633: 'is',\n",
       " 634: 'due',\n",
       " 635: 'to',\n",
       " 636: 'the',\n",
       " 637: 'way',\n",
       " 638: 'you',\n",
       " 639: 've',\n",
       " 640: 'been',\n",
       " 641: 'conditioned',\n",
       " 642: 'there',\n",
       " 643: 'is',\n",
       " 644: 'no',\n",
       " 645: 'truth',\n",
       " 646: 'content',\n",
       " 647: 'The',\n",
       " 648: 'whole',\n",
       " 649: 'of',\n",
       " 650: 'your',\n",
       " 651: 'intellectual',\n",
       " 652: 'landscape',\n",
       " 653: 'is',\n",
       " 654: 'an',\n",
       " 655: 'illusion',\n",
       " 656: 'virtual',\n",
       " 657: 'reality',\n",
       " 658: 'didn',\n",
       " 659: 'make',\n",
       " 660: 'these',\n",
       " 661: 'rules',\n",
       " 662: 'it',\n",
       " 663: 'inherent',\n",
       " 664: 'in',\n",
       " 665: 'naturalistic',\n",
       " 666: 'atheism',\n",
       " 667: 'and',\n",
       " 668: 'to',\n",
       " 669: 'be',\n",
       " 670: 'consistent',\n",
       " 671: 'you',\n",
       " 672: 'have',\n",
       " 673: 'to',\n",
       " 674: 'accept',\n",
       " 675: 'the',\n",
       " 676: 'non',\n",
       " 677: 'significance',\n",
       " 678: 'of',\n",
       " 679: 'any',\n",
       " 680: 'human',\n",
       " 681: 'thought',\n",
       " 682: 'even',\n",
       " 683: 'your',\n",
       " 684: 'own',\n",
       " 685: 'All',\n",
       " 686: 'of',\n",
       " 687: 'this',\n",
       " 688: 'being',\n",
       " 689: 'so',\n",
       " 690: 'you',\n",
       " 691: 'have',\n",
       " 692: 'excluded',\n",
       " 693: 'yourself',\n",
       " 694: 'from',\n",
       " 695: 'any',\n",
       " 696: 'discussion',\n",
       " 697: 'of',\n",
       " 698: 'values',\n",
       " 699: 'right',\n",
       " 700: 'wrong',\n",
       " 701: 'goood',\n",
       " 702: 'evil',\n",
       " 703: 'etc',\n",
       " 704: 'and',\n",
       " 705: 'cannot',\n",
       " 706: 'participate',\n",
       " 707: 'Your',\n",
       " 708: 'opinion',\n",
       " 709: 'about',\n",
       " 710: 'the',\n",
       " 711: 'Bible',\n",
       " 712: 'can',\n",
       " 713: 'have',\n",
       " 714: 'no',\n",
       " 715: 'weight',\n",
       " 716: 'whatsoever',\n",
       " 717: 'Are',\n",
       " 718: 'there',\n",
       " 719: 'any',\n",
       " 720: 'places',\n",
       " 721: 'in',\n",
       " 722: 'the',\n",
       " 723: 'Bible',\n",
       " 724: 'where',\n",
       " 725: 'the',\n",
       " 726: 'commandment',\n",
       " 727: 'Thou',\n",
       " 728: 'shalt',\n",
       " 729: 'not',\n",
       " 730: 'kill',\n",
       " 731: 'is',\n",
       " 732: 'specifically',\n",
       " 733: 'applied',\n",
       " 734: 'That',\n",
       " 735: 'is',\n",
       " 736: 'where',\n",
       " 737: 'someone',\n",
       " 738: 'refrained',\n",
       " 739: 'from',\n",
       " 740: 'killing',\n",
       " 741: 'because',\n",
       " 742: 'he',\n",
       " 743: 'remembered',\n",
       " 744: 'the',\n",
       " 745: 'commandment',\n",
       " 746: 'No',\n",
       " 747: 'for',\n",
       " 748: 'the',\n",
       " 749: 'excellent',\n",
       " 750: 'reason',\n",
       " 751: 'that',\n",
       " 752: 'there',\n",
       " 753: 'IS',\n",
       " 754: 'no',\n",
       " 755: 'such',\n",
       " 756: 'commandment',\n",
       " 757: 'Aside',\n",
       " 758: 'from',\n",
       " 759: 'that',\n",
       " 760: 'please',\n",
       " 761: 'note',\n",
       " 762: 'that',\n",
       " 763: 'the',\n",
       " 764: 'Abrahamic',\n",
       " 765: 'literary',\n",
       " 766: 'tradition',\n",
       " 767: 'is',\n",
       " 768: 'strong',\n",
       " 769: 'on',\n",
       " 770: 'narrative',\n",
       " 771: 'light',\n",
       " 772: 'on',\n",
       " 773: 'dialog',\n",
       " 774: 'and',\n",
       " 775: 'virtually',\n",
       " 776: 'nonexistent',\n",
       " 777: 'introspection',\n",
       " 778: 'If',\n",
       " 779: 'one',\n",
       " 780: 'is',\n",
       " 781: 'vegan',\n",
       " 782: 'vegetarian',\n",
       " 783: 'taht',\n",
       " 784: 'eats',\n",
       " 785: 'no',\n",
       " 786: 'animal',\n",
       " 787: 'products',\n",
       " 788: 'at',\n",
       " 789: 'at',\n",
       " 790: 'eggs',\n",
       " 791: 'milk',\n",
       " 792: 'cheese',\n",
       " 793: 'etc',\n",
       " 794: 'after',\n",
       " 795: 'about',\n",
       " 796: 'years',\n",
       " 797: 'of',\n",
       " 798: 'vegan',\n",
       " 799: 'diet',\n",
       " 800: 'you',\n",
       " 801: 'need',\n",
       " 802: 'to',\n",
       " 803: 'start',\n",
       " 804: 'taking',\n",
       " 805: 'supplements',\n",
       " 806: 'because',\n",
       " 807: 'is',\n",
       " 808: 'found',\n",
       " 809: 'only',\n",
       " 810: 'in',\n",
       " 811: 'animals',\n",
       " 812: 'Acutally',\n",
       " 813: 'our',\n",
       " 814: 'bodies',\n",
       " 815: 'make',\n",
       " 816: 'think',\n",
       " 817: 'but',\n",
       " 818: 'our',\n",
       " 819: 'bodies',\n",
       " 820: 'use',\n",
       " 821: 'up',\n",
       " 822: 'our',\n",
       " 823: 'own',\n",
       " 824: 'after',\n",
       " 825: 'or',\n",
       " 826: 'years',\n",
       " 827: 'Lacto',\n",
       " 828: 'oveo',\n",
       " 829: 'vegetarians',\n",
       " 830: 'like',\n",
       " 831: 'myself',\n",
       " 832: 'still',\n",
       " 833: 'get',\n",
       " 834: 'through',\n",
       " 835: 'milk',\n",
       " 836: 'products',\n",
       " 837: 'and',\n",
       " 838: 'eggs',\n",
       " 839: 'so',\n",
       " 840: 'we',\n",
       " 841: 'don',\n",
       " 842: 'need',\n",
       " 843: 'supplements',\n",
       " 844: 'And',\n",
       " 845: 'If',\n",
       " 846: 'anyone',\n",
       " 847: 'knows',\n",
       " 848: 'more',\n",
       " 849: 'PLEASE',\n",
       " 850: 'post',\n",
       " 851: 'it',\n",
       " 852: 'nearly',\n",
       " 853: 'contridicting',\n",
       " 854: 'myself',\n",
       " 855: 'with',\n",
       " 856: 'the',\n",
       " 857: 'mish',\n",
       " 858: 'mash',\n",
       " 859: 'of',\n",
       " 860: 'knowledge',\n",
       " 861: 've',\n",
       " 862: 'gleaned',\n",
       " 863: 'Last',\n",
       " 864: 'night',\n",
       " 865: 'while',\n",
       " 866: 'watching',\n",
       " 867: 'the',\n",
       " 868: 'rebroadcast',\n",
       " 869: 'of',\n",
       " 870: 'Jerry',\n",
       " 871: 'Springer',\n",
       " 872: 'talk',\n",
       " 873: 'show',\n",
       " 874: 'heard',\n",
       " 875: 'this',\n",
       " 876: 'Jewel',\n",
       " 877: 'of',\n",
       " 878: 'thought',\n",
       " 879: 'from',\n",
       " 880: 'year',\n",
       " 881: 'old',\n",
       " 882: 'racist',\n",
       " 883: 'The',\n",
       " 884: 'focus',\n",
       " 885: 'of',\n",
       " 886: 'this',\n",
       " 887: 'show',\n",
       " 888: 'was',\n",
       " 889: 'on',\n",
       " 890: 'these',\n",
       " 891: 'kids',\n",
       " 892: 'and',\n",
       " 893: 'their',\n",
       " 894: 'hatred',\n",
       " 895: 'for',\n",
       " 896: 'the',\n",
       " 897: 'Jewish',\n",
       " 898: 'religion',\n",
       " 899: 'and',\n",
       " 900: 'why',\n",
       " 901: 'some',\n",
       " 902: 'stuff',\n",
       " 903: 'deleted',\n",
       " 904: 'Interesting',\n",
       " 905: 'and',\n",
       " 906: 'scary',\n",
       " 907: 'no',\n",
       " 908: 'They',\n",
       " 909: 'went',\n",
       " 910: 'on',\n",
       " 911: 'to',\n",
       " 912: 'say',\n",
       " 913: 'how',\n",
       " 914: 'the',\n",
       " 915: 'Jews',\n",
       " 916: 'had',\n",
       " 917: 'killed',\n",
       " 918: 'their',\n",
       " 919: 'god',\n",
       " 920: 'and',\n",
       " 921: 'how',\n",
       " 922: 'in',\n",
       " 923: 'the',\n",
       " 924: 'end',\n",
       " 925: 'of',\n",
       " 926: 'time',\n",
       " 927: 'that',\n",
       " 928: 'all',\n",
       " 929: 'the',\n",
       " 930: 'races',\n",
       " 931: 'would',\n",
       " 932: 'go',\n",
       " 933: 'to',\n",
       " 934: 'their',\n",
       " 935: 'homelands',\n",
       " 936: 'of',\n",
       " 937: 'course',\n",
       " 938: 'they',\n",
       " 939: 'would',\n",
       " 940: 'remain',\n",
       " 941: 'in',\n",
       " 942: 'America',\n",
       " 943: 'which',\n",
       " 944: 'is',\n",
       " 945: 'New',\n",
       " 946: 'Jeruselem',\n",
       " 947: 'as',\n",
       " 948: 'it',\n",
       " 949: 'says',\n",
       " 950: 'in',\n",
       " 951: 'Gen',\n",
       " 952: 'what',\n",
       " 953: 'another',\n",
       " 954: 'kid',\n",
       " 955: 'said',\n",
       " 956: 'but',\n",
       " 957: 'the',\n",
       " 958: 'rest',\n",
       " 959: 'of',\n",
       " 960: 'the',\n",
       " 961: 'races',\n",
       " 962: 'would',\n",
       " 963: 'go',\n",
       " 964: 'home',\n",
       " 965: 'and',\n",
       " 966: 'then',\n",
       " 967: 'the',\n",
       " 968: 'great',\n",
       " 969: 'battle',\n",
       " 970: 'or',\n",
       " 971: 'plague',\n",
       " 972: 'or',\n",
       " 973: 'whatever',\n",
       " 974: 'Revel',\n",
       " 975: 'says',\n",
       " 976: 'would',\n",
       " 977: 'happen',\n",
       " 978: 'and',\n",
       " 979: 'the',\n",
       " 980: 'jews',\n",
       " 981: 'would',\n",
       " 982: 'be',\n",
       " 983: 'killed',\n",
       " 984: 'The',\n",
       " 985: 'most',\n",
       " 986: 'interesting',\n",
       " 987: 'thing',\n",
       " 988: 'about',\n",
       " 989: 'this',\n",
       " 990: 'was',\n",
       " 991: 'that',\n",
       " 992: 'my',\n",
       " 993: 'roomate',\n",
       " 994: 'is',\n",
       " 995: 'Catholic',\n",
       " 996: 'and',\n",
       " 997: 'had',\n",
       " 998: 'the',\n",
       " 999: 'KJV',\n",
       " ...}"
      ]
     },
     "execution_count": 5,
     "metadata": {},
     "output_type": "execute_result"
    }
   ],
   "source": [
    "vocabulary = get_vocab(raw_data)\n",
    "vocabulary"
   ]
  },
  {
   "cell_type": "code",
   "execution_count": null,
   "metadata": {},
   "outputs": [],
   "source": [
    "len(vocabulary)"
   ]
  },
  {
   "cell_type": "markdown",
   "metadata": {},
   "source": [
    "## Metric"
   ]
  },
  {
   "cell_type": "markdown",
   "metadata": {},
   "source": [
    "### Binary"
   ]
  },
  {
   "cell_type": "code",
   "execution_count": 6,
   "metadata": {},
   "outputs": [],
   "source": [
    "def vectorize_binary(vocabulary: dict, document: str) -> List[int]:\n",
    "    \n",
    "    doc_list = list()\n",
    "    for index, token in vocabulary.items():\n",
    "        if token in get_token(document):\n",
    "            doc_list.append(1)\n",
    "        else:\n",
    "            doc_list.append(0)\n",
    "            \n",
    "    return doc_list"
   ]
  },
  {
   "cell_type": "code",
   "execution_count": 7,
   "metadata": {},
   "outputs": [],
   "source": [
    "def get_docTermList(text: List[str], vocabulary: dict) -> list:\n",
    "    return [vectorize_binary(vocabulary, doc) for doc in text]\n",
    "    \n",
    "\n",
    "def get_docTermMatrix(doc_termList: List[str], vocabulary: dict) -> pd.DataFrame:\n",
    "    return pd.DataFrame(doc_termList, columns=list(vocabulary.values()))"
   ]
  },
  {
   "cell_type": "code",
   "execution_count": null,
   "metadata": {},
   "outputs": [],
   "source": [
    "vectorize_binary(vocabulary, raw_data[0])"
   ]
  },
  {
   "cell_type": "code",
   "execution_count": 8,
   "metadata": {},
   "outputs": [],
   "source": [
    "doc_termList = get_docTermList(raw_data, vocabulary)"
   ]
  },
  {
   "cell_type": "code",
   "execution_count": 9,
   "metadata": {},
   "outputs": [],
   "source": [
    "doc_termMatrix = get_docTermMatrix(doc_termList, vocabulary)"
   ]
  },
  {
   "cell_type": "markdown",
   "metadata": {},
   "source": [
    "## Querier"
   ]
  },
  {
   "cell_type": "code",
   "execution_count": 41,
   "metadata": {},
   "outputs": [],
   "source": [
    "class Querier:\n",
    "    \n",
    "    def __init__(\n",
    "        self, \n",
    "        text: List[str], \n",
    "        vocabulary: Dict[int, str], \n",
    "        doc_termMatrix: pd.DataFrame\n",
    "    ):\n",
    "        \n",
    "        self._dtm = doc_termMatrix\n",
    "\n",
    "        self.text = text\n",
    "        self.vocabulary = vocabulary\n",
    "        self.top: Optional = None\n",
    "        \n",
    "    def vectorize(self, query: str) -> List:\n",
    "        return vectorize_binary(self.vocabulary, query)\n",
    "    \n",
    "    def get_distance(self, x: int, y: int) -> float:\n",
    "        \n",
    "        distance = 0\n",
    "        \n",
    "        if sum(x) == 0:\n",
    "            return float('NaN')\n",
    "        \n",
    "        else:\n",
    "            for i in range(len(x)):\n",
    "                distance += (x[i] - y[i]) ** 2\n",
    "                \n",
    "            return distance ** (1 / 2)\n",
    "        \n",
    "    def ask(self, query: str) -> pd.Series:\n",
    "        self.query = query\n",
    "        self.distances = (\n",
    "            self._dtm\n",
    "            .apply(\n",
    "                lambda x: self.get_distance(x, self.vectorize(query)), \n",
    "                axis=1\n",
    "            )\n",
    "            .sort_values(ascending=True)\n",
    "        )\n",
    "        return self.distances\n",
    "        \n",
    "    def view(self, index: Optional = None) -> str:\n",
    "        return self.text[index]\n",
    "        \n",
    "    \n",
    "    def compare_top(self, n: int = 10):\n",
    "        top_n = self.distances.head(n)\n",
    "        return [\n",
    "            (self.view(i), top_n.loc[i]) \n",
    "            for i in top_n.index.to_list()\n",
    "        ]"
   ]
  },
  {
   "cell_type": "code",
   "execution_count": 42,
   "metadata": {},
   "outputs": [],
   "source": [
    "query = raw_data[32]"
   ]
  },
  {
   "cell_type": "code",
   "execution_count": 43,
   "metadata": {},
   "outputs": [],
   "source": [
    "Query = Querier(raw_data, vocabulary, doc_termMatrix)"
   ]
  },
  {
   "cell_type": "code",
   "execution_count": 44,
   "metadata": {},
   "outputs": [],
   "source": [
    "sample1 = Query.ask(query)"
   ]
  },
  {
   "cell_type": "code",
   "execution_count": 45,
   "metadata": {},
   "outputs": [
    {
     "data": {
      "application/vnd.plotly.v1+json": {
       "config": {
        "plotlyServerURL": "https://plot.ly"
       },
       "data": [
        {
         "alignmentgroup": "True",
         "hovertemplate": "variable=0<br>index=%{x}<br>value=%{y}<extra></extra>",
         "legendgroup": "0",
         "marker": {
          "color": "#636efa",
          "pattern": {
           "shape": ""
          }
         },
         "name": "0",
         "offsetgroup": "0",
         "orientation": "v",
         "showlegend": true,
         "textposition": "auto",
         "type": "bar",
         "x": [
          32,
          0,
          7,
          17,
          37,
          38,
          4,
          26,
          1,
          29,
          16,
          31,
          9,
          33,
          25,
          20,
          28,
          2,
          5,
          24,
          27,
          12,
          10,
          39,
          35,
          21,
          30,
          23,
          14,
          34,
          6,
          13,
          22,
          8,
          15,
          19,
          11,
          3,
          18,
          36
         ],
         "xaxis": "x",
         "y": [
          0,
          20.904544960366874,
          32.37282811247729,
          37.54996671103717,
          38.58756276314948,
          39.331920878594275,
          40.45985664828782,
          41.036569057366385,
          41.677331968349414,
          42.33202097703345,
          43.76071297408213,
          44.46346815083142,
          47.968739820845826,
          48.84669896727925,
          49.889878733065686,
          50.25932749251625,
          50.70502933634887,
          51.82663407939975,
          53.99073994677235,
          54.981815175565096,
          56.3382640840131,
          56.52433104425032,
          56.70097000933934,
          58.29236656715869,
          59.295868321494375,
          60.63827174318213,
          60.909769331364245,
          63.733821476512766,
          63.85922016435841,
          64.15605972938177,
          66.55073252789934,
          66.60330322138685,
          66.7233092704491,
          68.4324484437025,
          69.00724599634447,
          69.28924880528002,
          72.6636084983398,
          73.57988855658861,
          105.28057750601485,
          null
         ],
         "yaxis": "y"
        }
       ],
       "layout": {
        "barmode": "relative",
        "legend": {
         "title": {
          "text": "variable"
         },
         "tracegroupgap": 0
        },
        "margin": {
         "t": 60
        },
        "template": {
         "data": {
          "bar": [
           {
            "error_x": {
             "color": "#2a3f5f"
            },
            "error_y": {
             "color": "#2a3f5f"
            },
            "marker": {
             "line": {
              "color": "#E5ECF6",
              "width": 0.5
             },
             "pattern": {
              "fillmode": "overlay",
              "size": 10,
              "solidity": 0.2
             }
            },
            "type": "bar"
           }
          ],
          "barpolar": [
           {
            "marker": {
             "line": {
              "color": "#E5ECF6",
              "width": 0.5
             },
             "pattern": {
              "fillmode": "overlay",
              "size": 10,
              "solidity": 0.2
             }
            },
            "type": "barpolar"
           }
          ],
          "carpet": [
           {
            "aaxis": {
             "endlinecolor": "#2a3f5f",
             "gridcolor": "white",
             "linecolor": "white",
             "minorgridcolor": "white",
             "startlinecolor": "#2a3f5f"
            },
            "baxis": {
             "endlinecolor": "#2a3f5f",
             "gridcolor": "white",
             "linecolor": "white",
             "minorgridcolor": "white",
             "startlinecolor": "#2a3f5f"
            },
            "type": "carpet"
           }
          ],
          "choropleth": [
           {
            "colorbar": {
             "outlinewidth": 0,
             "ticks": ""
            },
            "type": "choropleth"
           }
          ],
          "contour": [
           {
            "colorbar": {
             "outlinewidth": 0,
             "ticks": ""
            },
            "colorscale": [
             [
              0,
              "#0d0887"
             ],
             [
              0.1111111111111111,
              "#46039f"
             ],
             [
              0.2222222222222222,
              "#7201a8"
             ],
             [
              0.3333333333333333,
              "#9c179e"
             ],
             [
              0.4444444444444444,
              "#bd3786"
             ],
             [
              0.5555555555555556,
              "#d8576b"
             ],
             [
              0.6666666666666666,
              "#ed7953"
             ],
             [
              0.7777777777777778,
              "#fb9f3a"
             ],
             [
              0.8888888888888888,
              "#fdca26"
             ],
             [
              1,
              "#f0f921"
             ]
            ],
            "type": "contour"
           }
          ],
          "contourcarpet": [
           {
            "colorbar": {
             "outlinewidth": 0,
             "ticks": ""
            },
            "type": "contourcarpet"
           }
          ],
          "heatmap": [
           {
            "colorbar": {
             "outlinewidth": 0,
             "ticks": ""
            },
            "colorscale": [
             [
              0,
              "#0d0887"
             ],
             [
              0.1111111111111111,
              "#46039f"
             ],
             [
              0.2222222222222222,
              "#7201a8"
             ],
             [
              0.3333333333333333,
              "#9c179e"
             ],
             [
              0.4444444444444444,
              "#bd3786"
             ],
             [
              0.5555555555555556,
              "#d8576b"
             ],
             [
              0.6666666666666666,
              "#ed7953"
             ],
             [
              0.7777777777777778,
              "#fb9f3a"
             ],
             [
              0.8888888888888888,
              "#fdca26"
             ],
             [
              1,
              "#f0f921"
             ]
            ],
            "type": "heatmap"
           }
          ],
          "heatmapgl": [
           {
            "colorbar": {
             "outlinewidth": 0,
             "ticks": ""
            },
            "colorscale": [
             [
              0,
              "#0d0887"
             ],
             [
              0.1111111111111111,
              "#46039f"
             ],
             [
              0.2222222222222222,
              "#7201a8"
             ],
             [
              0.3333333333333333,
              "#9c179e"
             ],
             [
              0.4444444444444444,
              "#bd3786"
             ],
             [
              0.5555555555555556,
              "#d8576b"
             ],
             [
              0.6666666666666666,
              "#ed7953"
             ],
             [
              0.7777777777777778,
              "#fb9f3a"
             ],
             [
              0.8888888888888888,
              "#fdca26"
             ],
             [
              1,
              "#f0f921"
             ]
            ],
            "type": "heatmapgl"
           }
          ],
          "histogram": [
           {
            "marker": {
             "pattern": {
              "fillmode": "overlay",
              "size": 10,
              "solidity": 0.2
             }
            },
            "type": "histogram"
           }
          ],
          "histogram2d": [
           {
            "colorbar": {
             "outlinewidth": 0,
             "ticks": ""
            },
            "colorscale": [
             [
              0,
              "#0d0887"
             ],
             [
              0.1111111111111111,
              "#46039f"
             ],
             [
              0.2222222222222222,
              "#7201a8"
             ],
             [
              0.3333333333333333,
              "#9c179e"
             ],
             [
              0.4444444444444444,
              "#bd3786"
             ],
             [
              0.5555555555555556,
              "#d8576b"
             ],
             [
              0.6666666666666666,
              "#ed7953"
             ],
             [
              0.7777777777777778,
              "#fb9f3a"
             ],
             [
              0.8888888888888888,
              "#fdca26"
             ],
             [
              1,
              "#f0f921"
             ]
            ],
            "type": "histogram2d"
           }
          ],
          "histogram2dcontour": [
           {
            "colorbar": {
             "outlinewidth": 0,
             "ticks": ""
            },
            "colorscale": [
             [
              0,
              "#0d0887"
             ],
             [
              0.1111111111111111,
              "#46039f"
             ],
             [
              0.2222222222222222,
              "#7201a8"
             ],
             [
              0.3333333333333333,
              "#9c179e"
             ],
             [
              0.4444444444444444,
              "#bd3786"
             ],
             [
              0.5555555555555556,
              "#d8576b"
             ],
             [
              0.6666666666666666,
              "#ed7953"
             ],
             [
              0.7777777777777778,
              "#fb9f3a"
             ],
             [
              0.8888888888888888,
              "#fdca26"
             ],
             [
              1,
              "#f0f921"
             ]
            ],
            "type": "histogram2dcontour"
           }
          ],
          "mesh3d": [
           {
            "colorbar": {
             "outlinewidth": 0,
             "ticks": ""
            },
            "type": "mesh3d"
           }
          ],
          "parcoords": [
           {
            "line": {
             "colorbar": {
              "outlinewidth": 0,
              "ticks": ""
             }
            },
            "type": "parcoords"
           }
          ],
          "pie": [
           {
            "automargin": true,
            "type": "pie"
           }
          ],
          "scatter": [
           {
            "marker": {
             "colorbar": {
              "outlinewidth": 0,
              "ticks": ""
             }
            },
            "type": "scatter"
           }
          ],
          "scatter3d": [
           {
            "line": {
             "colorbar": {
              "outlinewidth": 0,
              "ticks": ""
             }
            },
            "marker": {
             "colorbar": {
              "outlinewidth": 0,
              "ticks": ""
             }
            },
            "type": "scatter3d"
           }
          ],
          "scattercarpet": [
           {
            "marker": {
             "colorbar": {
              "outlinewidth": 0,
              "ticks": ""
             }
            },
            "type": "scattercarpet"
           }
          ],
          "scattergeo": [
           {
            "marker": {
             "colorbar": {
              "outlinewidth": 0,
              "ticks": ""
             }
            },
            "type": "scattergeo"
           }
          ],
          "scattergl": [
           {
            "marker": {
             "colorbar": {
              "outlinewidth": 0,
              "ticks": ""
             }
            },
            "type": "scattergl"
           }
          ],
          "scattermapbox": [
           {
            "marker": {
             "colorbar": {
              "outlinewidth": 0,
              "ticks": ""
             }
            },
            "type": "scattermapbox"
           }
          ],
          "scatterpolar": [
           {
            "marker": {
             "colorbar": {
              "outlinewidth": 0,
              "ticks": ""
             }
            },
            "type": "scatterpolar"
           }
          ],
          "scatterpolargl": [
           {
            "marker": {
             "colorbar": {
              "outlinewidth": 0,
              "ticks": ""
             }
            },
            "type": "scatterpolargl"
           }
          ],
          "scatterternary": [
           {
            "marker": {
             "colorbar": {
              "outlinewidth": 0,
              "ticks": ""
             }
            },
            "type": "scatterternary"
           }
          ],
          "surface": [
           {
            "colorbar": {
             "outlinewidth": 0,
             "ticks": ""
            },
            "colorscale": [
             [
              0,
              "#0d0887"
             ],
             [
              0.1111111111111111,
              "#46039f"
             ],
             [
              0.2222222222222222,
              "#7201a8"
             ],
             [
              0.3333333333333333,
              "#9c179e"
             ],
             [
              0.4444444444444444,
              "#bd3786"
             ],
             [
              0.5555555555555556,
              "#d8576b"
             ],
             [
              0.6666666666666666,
              "#ed7953"
             ],
             [
              0.7777777777777778,
              "#fb9f3a"
             ],
             [
              0.8888888888888888,
              "#fdca26"
             ],
             [
              1,
              "#f0f921"
             ]
            ],
            "type": "surface"
           }
          ],
          "table": [
           {
            "cells": {
             "fill": {
              "color": "#EBF0F8"
             },
             "line": {
              "color": "white"
             }
            },
            "header": {
             "fill": {
              "color": "#C8D4E3"
             },
             "line": {
              "color": "white"
             }
            },
            "type": "table"
           }
          ]
         },
         "layout": {
          "annotationdefaults": {
           "arrowcolor": "#2a3f5f",
           "arrowhead": 0,
           "arrowwidth": 1
          },
          "autotypenumbers": "strict",
          "coloraxis": {
           "colorbar": {
            "outlinewidth": 0,
            "ticks": ""
           }
          },
          "colorscale": {
           "diverging": [
            [
             0,
             "#8e0152"
            ],
            [
             0.1,
             "#c51b7d"
            ],
            [
             0.2,
             "#de77ae"
            ],
            [
             0.3,
             "#f1b6da"
            ],
            [
             0.4,
             "#fde0ef"
            ],
            [
             0.5,
             "#f7f7f7"
            ],
            [
             0.6,
             "#e6f5d0"
            ],
            [
             0.7,
             "#b8e186"
            ],
            [
             0.8,
             "#7fbc41"
            ],
            [
             0.9,
             "#4d9221"
            ],
            [
             1,
             "#276419"
            ]
           ],
           "sequential": [
            [
             0,
             "#0d0887"
            ],
            [
             0.1111111111111111,
             "#46039f"
            ],
            [
             0.2222222222222222,
             "#7201a8"
            ],
            [
             0.3333333333333333,
             "#9c179e"
            ],
            [
             0.4444444444444444,
             "#bd3786"
            ],
            [
             0.5555555555555556,
             "#d8576b"
            ],
            [
             0.6666666666666666,
             "#ed7953"
            ],
            [
             0.7777777777777778,
             "#fb9f3a"
            ],
            [
             0.8888888888888888,
             "#fdca26"
            ],
            [
             1,
             "#f0f921"
            ]
           ],
           "sequentialminus": [
            [
             0,
             "#0d0887"
            ],
            [
             0.1111111111111111,
             "#46039f"
            ],
            [
             0.2222222222222222,
             "#7201a8"
            ],
            [
             0.3333333333333333,
             "#9c179e"
            ],
            [
             0.4444444444444444,
             "#bd3786"
            ],
            [
             0.5555555555555556,
             "#d8576b"
            ],
            [
             0.6666666666666666,
             "#ed7953"
            ],
            [
             0.7777777777777778,
             "#fb9f3a"
            ],
            [
             0.8888888888888888,
             "#fdca26"
            ],
            [
             1,
             "#f0f921"
            ]
           ]
          },
          "colorway": [
           "#636efa",
           "#EF553B",
           "#00cc96",
           "#ab63fa",
           "#FFA15A",
           "#19d3f3",
           "#FF6692",
           "#B6E880",
           "#FF97FF",
           "#FECB52"
          ],
          "font": {
           "color": "#2a3f5f"
          },
          "geo": {
           "bgcolor": "white",
           "lakecolor": "white",
           "landcolor": "#E5ECF6",
           "showlakes": true,
           "showland": true,
           "subunitcolor": "white"
          },
          "hoverlabel": {
           "align": "left"
          },
          "hovermode": "closest",
          "mapbox": {
           "style": "light"
          },
          "paper_bgcolor": "white",
          "plot_bgcolor": "#E5ECF6",
          "polar": {
           "angularaxis": {
            "gridcolor": "white",
            "linecolor": "white",
            "ticks": ""
           },
           "bgcolor": "#E5ECF6",
           "radialaxis": {
            "gridcolor": "white",
            "linecolor": "white",
            "ticks": ""
           }
          },
          "scene": {
           "xaxis": {
            "backgroundcolor": "#E5ECF6",
            "gridcolor": "white",
            "gridwidth": 2,
            "linecolor": "white",
            "showbackground": true,
            "ticks": "",
            "zerolinecolor": "white"
           },
           "yaxis": {
            "backgroundcolor": "#E5ECF6",
            "gridcolor": "white",
            "gridwidth": 2,
            "linecolor": "white",
            "showbackground": true,
            "ticks": "",
            "zerolinecolor": "white"
           },
           "zaxis": {
            "backgroundcolor": "#E5ECF6",
            "gridcolor": "white",
            "gridwidth": 2,
            "linecolor": "white",
            "showbackground": true,
            "ticks": "",
            "zerolinecolor": "white"
           }
          },
          "shapedefaults": {
           "line": {
            "color": "#2a3f5f"
           }
          },
          "ternary": {
           "aaxis": {
            "gridcolor": "white",
            "linecolor": "white",
            "ticks": ""
           },
           "baxis": {
            "gridcolor": "white",
            "linecolor": "white",
            "ticks": ""
           },
           "bgcolor": "#E5ECF6",
           "caxis": {
            "gridcolor": "white",
            "linecolor": "white",
            "ticks": ""
           }
          },
          "title": {
           "x": 0.05
          },
          "xaxis": {
           "automargin": true,
           "gridcolor": "white",
           "linecolor": "white",
           "ticks": "",
           "title": {
            "standoff": 15
           },
           "zerolinecolor": "white",
           "zerolinewidth": 2
          },
          "yaxis": {
           "automargin": true,
           "gridcolor": "white",
           "linecolor": "white",
           "ticks": "",
           "title": {
            "standoff": 15
           },
           "zerolinecolor": "white",
           "zerolinewidth": 2
          }
         }
        },
        "xaxis": {
         "anchor": "y",
         "domain": [
          0,
          1
         ],
         "title": {
          "text": "index"
         }
        },
        "yaxis": {
         "anchor": "x",
         "domain": [
          0,
          1
         ],
         "title": {
          "text": "value"
         }
        }
       }
      },
      "text/html": [
       "<div>                            <div id=\"b4123942-3427-40a8-9e9f-1669762af5ab\" class=\"plotly-graph-div\" style=\"height:525px; width:100%;\"></div>            <script type=\"text/javascript\">                require([\"plotly\"], function(Plotly) {                    window.PLOTLYENV=window.PLOTLYENV || {};                                    if (document.getElementById(\"b4123942-3427-40a8-9e9f-1669762af5ab\")) {                    Plotly.newPlot(                        \"b4123942-3427-40a8-9e9f-1669762af5ab\",                        [{\"alignmentgroup\":\"True\",\"hovertemplate\":\"variable=0<br>index=%{x}<br>value=%{y}<extra></extra>\",\"legendgroup\":\"0\",\"marker\":{\"color\":\"#636efa\",\"pattern\":{\"shape\":\"\"}},\"name\":\"0\",\"offsetgroup\":\"0\",\"orientation\":\"v\",\"showlegend\":true,\"textposition\":\"auto\",\"type\":\"bar\",\"x\":[32,0,7,17,37,38,4,26,1,29,16,31,9,33,25,20,28,2,5,24,27,12,10,39,35,21,30,23,14,34,6,13,22,8,15,19,11,3,18,36],\"xaxis\":\"x\",\"y\":[0.0,20.904544960366874,32.37282811247729,37.54996671103717,38.58756276314948,39.331920878594275,40.45985664828782,41.036569057366385,41.677331968349414,42.33202097703345,43.76071297408213,44.46346815083142,47.968739820845826,48.84669896727925,49.889878733065686,50.25932749251625,50.70502933634887,51.82663407939975,53.99073994677235,54.981815175565096,56.3382640840131,56.52433104425032,56.70097000933934,58.29236656715869,59.295868321494375,60.63827174318213,60.909769331364245,63.733821476512766,63.85922016435841,64.15605972938177,66.55073252789934,66.60330322138685,66.7233092704491,68.4324484437025,69.00724599634447,69.28924880528002,72.6636084983398,73.57988855658861,105.28057750601485,null],\"yaxis\":\"y\"}],                        {\"barmode\":\"relative\",\"legend\":{\"title\":{\"text\":\"variable\"},\"tracegroupgap\":0},\"margin\":{\"t\":60},\"template\":{\"data\":{\"bar\":[{\"error_x\":{\"color\":\"#2a3f5f\"},\"error_y\":{\"color\":\"#2a3f5f\"},\"marker\":{\"line\":{\"color\":\"#E5ECF6\",\"width\":0.5},\"pattern\":{\"fillmode\":\"overlay\",\"size\":10,\"solidity\":0.2}},\"type\":\"bar\"}],\"barpolar\":[{\"marker\":{\"line\":{\"color\":\"#E5ECF6\",\"width\":0.5},\"pattern\":{\"fillmode\":\"overlay\",\"size\":10,\"solidity\":0.2}},\"type\":\"barpolar\"}],\"carpet\":[{\"aaxis\":{\"endlinecolor\":\"#2a3f5f\",\"gridcolor\":\"white\",\"linecolor\":\"white\",\"minorgridcolor\":\"white\",\"startlinecolor\":\"#2a3f5f\"},\"baxis\":{\"endlinecolor\":\"#2a3f5f\",\"gridcolor\":\"white\",\"linecolor\":\"white\",\"minorgridcolor\":\"white\",\"startlinecolor\":\"#2a3f5f\"},\"type\":\"carpet\"}],\"choropleth\":[{\"colorbar\":{\"outlinewidth\":0,\"ticks\":\"\"},\"type\":\"choropleth\"}],\"contour\":[{\"colorbar\":{\"outlinewidth\":0,\"ticks\":\"\"},\"colorscale\":[[0.0,\"#0d0887\"],[0.1111111111111111,\"#46039f\"],[0.2222222222222222,\"#7201a8\"],[0.3333333333333333,\"#9c179e\"],[0.4444444444444444,\"#bd3786\"],[0.5555555555555556,\"#d8576b\"],[0.6666666666666666,\"#ed7953\"],[0.7777777777777778,\"#fb9f3a\"],[0.8888888888888888,\"#fdca26\"],[1.0,\"#f0f921\"]],\"type\":\"contour\"}],\"contourcarpet\":[{\"colorbar\":{\"outlinewidth\":0,\"ticks\":\"\"},\"type\":\"contourcarpet\"}],\"heatmap\":[{\"colorbar\":{\"outlinewidth\":0,\"ticks\":\"\"},\"colorscale\":[[0.0,\"#0d0887\"],[0.1111111111111111,\"#46039f\"],[0.2222222222222222,\"#7201a8\"],[0.3333333333333333,\"#9c179e\"],[0.4444444444444444,\"#bd3786\"],[0.5555555555555556,\"#d8576b\"],[0.6666666666666666,\"#ed7953\"],[0.7777777777777778,\"#fb9f3a\"],[0.8888888888888888,\"#fdca26\"],[1.0,\"#f0f921\"]],\"type\":\"heatmap\"}],\"heatmapgl\":[{\"colorbar\":{\"outlinewidth\":0,\"ticks\":\"\"},\"colorscale\":[[0.0,\"#0d0887\"],[0.1111111111111111,\"#46039f\"],[0.2222222222222222,\"#7201a8\"],[0.3333333333333333,\"#9c179e\"],[0.4444444444444444,\"#bd3786\"],[0.5555555555555556,\"#d8576b\"],[0.6666666666666666,\"#ed7953\"],[0.7777777777777778,\"#fb9f3a\"],[0.8888888888888888,\"#fdca26\"],[1.0,\"#f0f921\"]],\"type\":\"heatmapgl\"}],\"histogram\":[{\"marker\":{\"pattern\":{\"fillmode\":\"overlay\",\"size\":10,\"solidity\":0.2}},\"type\":\"histogram\"}],\"histogram2d\":[{\"colorbar\":{\"outlinewidth\":0,\"ticks\":\"\"},\"colorscale\":[[0.0,\"#0d0887\"],[0.1111111111111111,\"#46039f\"],[0.2222222222222222,\"#7201a8\"],[0.3333333333333333,\"#9c179e\"],[0.4444444444444444,\"#bd3786\"],[0.5555555555555556,\"#d8576b\"],[0.6666666666666666,\"#ed7953\"],[0.7777777777777778,\"#fb9f3a\"],[0.8888888888888888,\"#fdca26\"],[1.0,\"#f0f921\"]],\"type\":\"histogram2d\"}],\"histogram2dcontour\":[{\"colorbar\":{\"outlinewidth\":0,\"ticks\":\"\"},\"colorscale\":[[0.0,\"#0d0887\"],[0.1111111111111111,\"#46039f\"],[0.2222222222222222,\"#7201a8\"],[0.3333333333333333,\"#9c179e\"],[0.4444444444444444,\"#bd3786\"],[0.5555555555555556,\"#d8576b\"],[0.6666666666666666,\"#ed7953\"],[0.7777777777777778,\"#fb9f3a\"],[0.8888888888888888,\"#fdca26\"],[1.0,\"#f0f921\"]],\"type\":\"histogram2dcontour\"}],\"mesh3d\":[{\"colorbar\":{\"outlinewidth\":0,\"ticks\":\"\"},\"type\":\"mesh3d\"}],\"parcoords\":[{\"line\":{\"colorbar\":{\"outlinewidth\":0,\"ticks\":\"\"}},\"type\":\"parcoords\"}],\"pie\":[{\"automargin\":true,\"type\":\"pie\"}],\"scatter\":[{\"marker\":{\"colorbar\":{\"outlinewidth\":0,\"ticks\":\"\"}},\"type\":\"scatter\"}],\"scatter3d\":[{\"line\":{\"colorbar\":{\"outlinewidth\":0,\"ticks\":\"\"}},\"marker\":{\"colorbar\":{\"outlinewidth\":0,\"ticks\":\"\"}},\"type\":\"scatter3d\"}],\"scattercarpet\":[{\"marker\":{\"colorbar\":{\"outlinewidth\":0,\"ticks\":\"\"}},\"type\":\"scattercarpet\"}],\"scattergeo\":[{\"marker\":{\"colorbar\":{\"outlinewidth\":0,\"ticks\":\"\"}},\"type\":\"scattergeo\"}],\"scattergl\":[{\"marker\":{\"colorbar\":{\"outlinewidth\":0,\"ticks\":\"\"}},\"type\":\"scattergl\"}],\"scattermapbox\":[{\"marker\":{\"colorbar\":{\"outlinewidth\":0,\"ticks\":\"\"}},\"type\":\"scattermapbox\"}],\"scatterpolar\":[{\"marker\":{\"colorbar\":{\"outlinewidth\":0,\"ticks\":\"\"}},\"type\":\"scatterpolar\"}],\"scatterpolargl\":[{\"marker\":{\"colorbar\":{\"outlinewidth\":0,\"ticks\":\"\"}},\"type\":\"scatterpolargl\"}],\"scatterternary\":[{\"marker\":{\"colorbar\":{\"outlinewidth\":0,\"ticks\":\"\"}},\"type\":\"scatterternary\"}],\"surface\":[{\"colorbar\":{\"outlinewidth\":0,\"ticks\":\"\"},\"colorscale\":[[0.0,\"#0d0887\"],[0.1111111111111111,\"#46039f\"],[0.2222222222222222,\"#7201a8\"],[0.3333333333333333,\"#9c179e\"],[0.4444444444444444,\"#bd3786\"],[0.5555555555555556,\"#d8576b\"],[0.6666666666666666,\"#ed7953\"],[0.7777777777777778,\"#fb9f3a\"],[0.8888888888888888,\"#fdca26\"],[1.0,\"#f0f921\"]],\"type\":\"surface\"}],\"table\":[{\"cells\":{\"fill\":{\"color\":\"#EBF0F8\"},\"line\":{\"color\":\"white\"}},\"header\":{\"fill\":{\"color\":\"#C8D4E3\"},\"line\":{\"color\":\"white\"}},\"type\":\"table\"}]},\"layout\":{\"annotationdefaults\":{\"arrowcolor\":\"#2a3f5f\",\"arrowhead\":0,\"arrowwidth\":1},\"autotypenumbers\":\"strict\",\"coloraxis\":{\"colorbar\":{\"outlinewidth\":0,\"ticks\":\"\"}},\"colorscale\":{\"diverging\":[[0,\"#8e0152\"],[0.1,\"#c51b7d\"],[0.2,\"#de77ae\"],[0.3,\"#f1b6da\"],[0.4,\"#fde0ef\"],[0.5,\"#f7f7f7\"],[0.6,\"#e6f5d0\"],[0.7,\"#b8e186\"],[0.8,\"#7fbc41\"],[0.9,\"#4d9221\"],[1,\"#276419\"]],\"sequential\":[[0.0,\"#0d0887\"],[0.1111111111111111,\"#46039f\"],[0.2222222222222222,\"#7201a8\"],[0.3333333333333333,\"#9c179e\"],[0.4444444444444444,\"#bd3786\"],[0.5555555555555556,\"#d8576b\"],[0.6666666666666666,\"#ed7953\"],[0.7777777777777778,\"#fb9f3a\"],[0.8888888888888888,\"#fdca26\"],[1.0,\"#f0f921\"]],\"sequentialminus\":[[0.0,\"#0d0887\"],[0.1111111111111111,\"#46039f\"],[0.2222222222222222,\"#7201a8\"],[0.3333333333333333,\"#9c179e\"],[0.4444444444444444,\"#bd3786\"],[0.5555555555555556,\"#d8576b\"],[0.6666666666666666,\"#ed7953\"],[0.7777777777777778,\"#fb9f3a\"],[0.8888888888888888,\"#fdca26\"],[1.0,\"#f0f921\"]]},\"colorway\":[\"#636efa\",\"#EF553B\",\"#00cc96\",\"#ab63fa\",\"#FFA15A\",\"#19d3f3\",\"#FF6692\",\"#B6E880\",\"#FF97FF\",\"#FECB52\"],\"font\":{\"color\":\"#2a3f5f\"},\"geo\":{\"bgcolor\":\"white\",\"lakecolor\":\"white\",\"landcolor\":\"#E5ECF6\",\"showlakes\":true,\"showland\":true,\"subunitcolor\":\"white\"},\"hoverlabel\":{\"align\":\"left\"},\"hovermode\":\"closest\",\"mapbox\":{\"style\":\"light\"},\"paper_bgcolor\":\"white\",\"plot_bgcolor\":\"#E5ECF6\",\"polar\":{\"angularaxis\":{\"gridcolor\":\"white\",\"linecolor\":\"white\",\"ticks\":\"\"},\"bgcolor\":\"#E5ECF6\",\"radialaxis\":{\"gridcolor\":\"white\",\"linecolor\":\"white\",\"ticks\":\"\"}},\"scene\":{\"xaxis\":{\"backgroundcolor\":\"#E5ECF6\",\"gridcolor\":\"white\",\"gridwidth\":2,\"linecolor\":\"white\",\"showbackground\":true,\"ticks\":\"\",\"zerolinecolor\":\"white\"},\"yaxis\":{\"backgroundcolor\":\"#E5ECF6\",\"gridcolor\":\"white\",\"gridwidth\":2,\"linecolor\":\"white\",\"showbackground\":true,\"ticks\":\"\",\"zerolinecolor\":\"white\"},\"zaxis\":{\"backgroundcolor\":\"#E5ECF6\",\"gridcolor\":\"white\",\"gridwidth\":2,\"linecolor\":\"white\",\"showbackground\":true,\"ticks\":\"\",\"zerolinecolor\":\"white\"}},\"shapedefaults\":{\"line\":{\"color\":\"#2a3f5f\"}},\"ternary\":{\"aaxis\":{\"gridcolor\":\"white\",\"linecolor\":\"white\",\"ticks\":\"\"},\"baxis\":{\"gridcolor\":\"white\",\"linecolor\":\"white\",\"ticks\":\"\"},\"bgcolor\":\"#E5ECF6\",\"caxis\":{\"gridcolor\":\"white\",\"linecolor\":\"white\",\"ticks\":\"\"}},\"title\":{\"x\":0.05},\"xaxis\":{\"automargin\":true,\"gridcolor\":\"white\",\"linecolor\":\"white\",\"ticks\":\"\",\"title\":{\"standoff\":15},\"zerolinecolor\":\"white\",\"zerolinewidth\":2},\"yaxis\":{\"automargin\":true,\"gridcolor\":\"white\",\"linecolor\":\"white\",\"ticks\":\"\",\"title\":{\"standoff\":15},\"zerolinecolor\":\"white\",\"zerolinewidth\":2}}},\"xaxis\":{\"anchor\":\"y\",\"domain\":[0.0,1.0],\"title\":{\"text\":\"index\"}},\"yaxis\":{\"anchor\":\"x\",\"domain\":[0.0,1.0],\"title\":{\"text\":\"value\"}}},                        {\"responsive\": true}                    ).then(function(){\n",
       "                            \n",
       "var gd = document.getElementById('b4123942-3427-40a8-9e9f-1669762af5ab');\n",
       "var x = new MutationObserver(function (mutations, observer) {{\n",
       "        var display = window.getComputedStyle(gd).display;\n",
       "        if (!display || display === 'none') {{\n",
       "            console.log([gd, 'removed!']);\n",
       "            Plotly.purge(gd);\n",
       "            observer.disconnect();\n",
       "        }}\n",
       "}});\n",
       "\n",
       "// Listen for the removal of the full notebook cells\n",
       "var notebookContainer = gd.closest('#notebook-container');\n",
       "if (notebookContainer) {{\n",
       "    x.observe(notebookContainer, {childList: true});\n",
       "}}\n",
       "\n",
       "// Listen for the clearing of the current output cell\n",
       "var outputEl = gd.closest('.output');\n",
       "if (outputEl) {{\n",
       "    x.observe(outputEl, {childList: true});\n",
       "}}\n",
       "\n",
       "                        })                };                });            </script>        </div>"
      ]
     },
     "metadata": {},
     "output_type": "display_data"
    }
   ],
   "source": [
    "px.bar(sample1)"
   ]
  },
  {
   "cell_type": "code",
   "execution_count": 46,
   "metadata": {},
   "outputs": [],
   "source": [
    "sample_top10 = Query.compare_top(10)"
   ]
  },
  {
   "cell_type": "code",
   "execution_count": 60,
   "metadata": {},
   "outputs": [],
   "source": [
    "df = pd.DataFrame(sample_top10, columns=['postings', 'distance'])"
   ]
  },
  {
   "cell_type": "code",
   "execution_count": 55,
   "metadata": {},
   "outputs": [
    {
     "data": {
      "text/html": [
       "<div>\n",
       "<style scoped>\n",
       "    .dataframe tbody tr th:only-of-type {\n",
       "        vertical-align: middle;\n",
       "    }\n",
       "\n",
       "    .dataframe tbody tr th {\n",
       "        vertical-align: top;\n",
       "    }\n",
       "\n",
       "    .dataframe thead th {\n",
       "        text-align: right;\n",
       "    }\n",
       "</style>\n",
       "<table border=\"1\" class=\"dataframe\">\n",
       "  <thead>\n",
       "    <tr style=\"text-align: right;\">\n",
       "      <th></th>\n",
       "      <th>postings</th>\n",
       "      <th>distance</th>\n",
       "    </tr>\n",
       "  </thead>\n",
       "  <tbody>\n",
       "    <tr>\n",
       "      <th>0</th>\n",
       "      <td>Is the \".3ds\" file format for Autodesk's 3D Animation Studio available?\\n\\nThanks,\\nGary</td>\n",
       "      <td>0.000000</td>\n",
       "    </tr>\n",
       "    <tr>\n",
       "      <th>1</th>\n",
       "      <td>\\nDid you check with the Afghans before posting this?   They\\nmight disagree.</td>\n",
       "      <td>20.904545</td>\n",
       "    </tr>\n",
       "    <tr>\n",
       "      <th>2</th>\n",
       "      <td>Well, that would depend on how much we wanted the US and how much\\nwe wanted the $1, wouldn't it?\\n-Ekr\\n</td>\n",
       "      <td>32.372828</td>\n",
       "    </tr>\n",
       "    <tr>\n",
       "      <th>3</th>\n",
       "      <td>\\n\\nJust because the wording is elsewhere does not mean they didn't spend\\nmuch time on the wording.\\n\\n\\nPeople can be described as cruel in this way, but punishments cannot.</td>\n",
       "      <td>37.549967</td>\n",
       "    </tr>\n",
       "    <tr>\n",
       "      <th>4</th>\n",
       "      <td>\\nThe problem was that SunPost411Ld was not defined.</td>\n",
       "      <td>38.587563</td>\n",
       "    </tr>\n",
       "    <tr>\n",
       "      <th>5</th>\n",
       "      <td>\\n\\n\\tThe newspaper itself is almost certainly copyrighted in its\\nentirety.  Newspapers generally employ legal staffs which make sure\\nthey get permission to use a copyrighted image or text.  Did...</td>\n",
       "      <td>39.331921</td>\n",
       "    </tr>\n",
       "    <tr>\n",
       "      <th>6</th>\n",
       "      <td>#     Are there any places in the Bible where the commandment \"Thou \\n#     shalt not kill\" is specifically applied?  That is, where someone \\n#     refrained from killing because he remembered th...</td>\n",
       "      <td>40.459857</td>\n",
       "    </tr>\n",
       "    <tr>\n",
       "      <th>7</th>\n",
       "      <td>: There is a new version of the RTrace ray-tracing package (8.2.0) at\\n: asterix.inescn.pt [192.35.246.17] in directory pub/RTrace.\\n: Check the README file.\\n\\ncant seem to reach the site from ov...</td>\n",
       "      <td>41.036569</td>\n",
       "    </tr>\n",
       "    <tr>\n",
       "      <th>8</th>\n",
       "      <td>\\n: &gt;EVER HEAR OF\\n: &gt;BAPTISM AT BIRTH?  If that isn't preying on the young, I don't know what\\n: &gt;is...\\n: &gt;\\n: RB&gt;   \\n: RB&gt;   No, that's praying on the young.  Preying on the young comes\\n: RB&gt;...</td>\n",
       "      <td>41.677332</td>\n",
       "    </tr>\n",
       "    <tr>\n",
       "      <th>9</th>\n",
       "      <td>\\nI tend to use XIconifyWindow to achieve this effect...  Have you tried that?\\n\\n- Brad</td>\n",
       "      <td>42.332021</td>\n",
       "    </tr>\n",
       "  </tbody>\n",
       "</table>\n",
       "</div>"
      ],
      "text/plain": [
       "                                                                                                                                                                                                  postings  \\\n",
       "0                                                                                                                 Is the \".3ds\" file format for Autodesk's 3D Animation Studio available?\\n\\nThanks,\\nGary   \n",
       "1                                                                                                                            \\nDid you check with the Afghans before posting this?   They\\nmight disagree.   \n",
       "2                                                                                                Well, that would depend on how much we wanted the US and how much\\nwe wanted the $1, wouldn't it?\\n-Ekr\\n   \n",
       "3                          \\n\\nJust because the wording is elsewhere does not mean they didn't spend\\nmuch time on the wording.\\n\\n\\nPeople can be described as cruel in this way, but punishments cannot.   \n",
       "4                                                                                                                                                     \\nThe problem was that SunPost411Ld was not defined.   \n",
       "5  \\n\\n\\tThe newspaper itself is almost certainly copyrighted in its\\nentirety.  Newspapers generally employ legal staffs which make sure\\nthey get permission to use a copyrighted image or text.  Did...   \n",
       "6  #     Are there any places in the Bible where the commandment \"Thou \\n#     shalt not kill\" is specifically applied?  That is, where someone \\n#     refrained from killing because he remembered th...   \n",
       "7  : There is a new version of the RTrace ray-tracing package (8.2.0) at\\n: asterix.inescn.pt [192.35.246.17] in directory pub/RTrace.\\n: Check the README file.\\n\\ncant seem to reach the site from ov...   \n",
       "8  \\n: >EVER HEAR OF\\n: >BAPTISM AT BIRTH?  If that isn't preying on the young, I don't know what\\n: >is...\\n: >\\n: RB>   \\n: RB>   No, that's praying on the young.  Preying on the young comes\\n: RB>...   \n",
       "9                                                                                                                 \\nI tend to use XIconifyWindow to achieve this effect...  Have you tried that?\\n\\n- Brad   \n",
       "\n",
       "    distance  \n",
       "0   0.000000  \n",
       "1  20.904545  \n",
       "2  32.372828  \n",
       "3  37.549967  \n",
       "4  38.587563  \n",
       "5  39.331921  \n",
       "6  40.459857  \n",
       "7  41.036569  \n",
       "8  41.677332  \n",
       "9  42.332021  "
      ]
     },
     "execution_count": 55,
     "metadata": {},
     "output_type": "execute_result"
    }
   ],
   "source": [
    "df"
   ]
  },
  {
   "cell_type": "code",
   "execution_count": 54,
   "metadata": {},
   "outputs": [],
   "source": [
    "pd.options.display.max_colwidth = 200"
   ]
  },
  {
   "cell_type": "code",
   "execution_count": null,
   "metadata": {},
   "outputs": [],
   "source": []
  }
 ],
 "metadata": {
  "kernelspec": {
   "display_name": "text-preprocessing",
   "language": "python",
   "name": "venv"
  },
  "language_info": {
   "codemirror_mode": {
    "name": "ipython",
    "version": 3
   },
   "file_extension": ".py",
   "mimetype": "text/x-python",
   "name": "python",
   "nbconvert_exporter": "python",
   "pygments_lexer": "ipython3",
   "version": "3.7.7"
  }
 },
 "nbformat": 4,
 "nbformat_minor": 4
}
